{
 "cells": [
  {
   "cell_type": "code",
   "execution_count": 1,
   "id": "24e945c3-fdf8-4b48-9187-bb7a22f93a5d",
   "metadata": {},
   "outputs": [],
   "source": [
    "# !dir"
   ]
  },
  {
   "cell_type": "code",
   "execution_count": 2,
   "id": "39700ccd-c117-4a9c-a215-f98b72498d50",
   "metadata": {},
   "outputs": [],
   "source": [
    "# !pip install selenium"
   ]
  },
  {
   "cell_type": "code",
   "execution_count": 3,
   "id": "12d6ce5c-4dce-4c86-a13d-65181985e1fb",
   "metadata": {},
   "outputs": [],
   "source": [
    "from selenium import webdriver\n",
    "from selenium.webdriver.chrome.service import Service\n",
    "from selenium.webdriver.common.action_chains import ActionChains\n",
    "from selenium.webdriver.chrome.options import Options\n",
    "from selenium.webdriver.common.keys import Keys\n",
    "from selenium.webdriver.common.by import By\n",
    "import time"
   ]
  },
  {
   "cell_type": "code",
   "execution_count": 4,
   "id": "38112d9e-0316-4648-83e7-2c5051dd0f9a",
   "metadata": {},
   "outputs": [],
   "source": [
    "from bs4 import BeautifulSoup as bs\n",
    "from hdfs import InsecureClient\n",
    "import pandas as pd\n",
    "import folium\n",
    "from datetime import datetime"
   ]
  },
  {
   "cell_type": "code",
   "execution_count": 5,
   "id": "fbc27f58-6b2f-4b9d-98ac-9f905007509d",
   "metadata": {},
   "outputs": [],
   "source": [
    "# Chrome 옵션 설정\n",
    "options = Options()\n",
    "options.binary_location = '/usr/local/bin/chrome-headless-shell' # 크롬 브라우저 경로\n",
    "# options.add_argument('--headless')\n",
    "options.add_argument('--no-sandbox') # 실행 가드? 해제\n",
    "options.add_argument('--disable-dev-shm-usage') # 공유 메모리 비활성화\n",
    "options.add_argument('--disable-gpu') # GPU 비활성화\n",
    "options.add_argument('--window-size=1920,1080') # 가상 화면크기 설정\n",
    "# ChromeDriver 설정\n",
    "# service = Service('/usr/local/bin/chromedriver')\n",
    "service = webdriver.ChromeService() # executable_path='/usr/local/bin/chromedriver'\n",
    "driver = webdriver.Chrome(service=service, options=options)"
   ]
  },
  {
   "cell_type": "code",
   "execution_count": 6,
   "id": "3367aa64-b2a5-4142-a438-dcd4511d3c3e",
   "metadata": {},
   "outputs": [
    {
     "name": "stdout",
     "output_type": "stream",
     "text": [
      "Starbucks Korea\n",
      "[[호버 동작]]\n",
      "[[매장메뉴 선택]]\n",
      "[[페이지 이동 중]]\n"
     ]
    }
   ],
   "source": [
    "driver.get('https://www.starbucks.co.kr/index.do')\n",
    "print(driver.title)\n",
    "\n",
    "hover_el = driver.find_element(By.CSS_SELECTOR, '#gnb > div > nav > div > ul > li.gnb_nav03 > h2 > a')\n",
    "menu_opt = driver.find_element(By.CSS_SELECTOR, '#gnb > div > nav > div > ul > li.gnb_nav03 > div > div > div > ul:nth-child(1) > li.gnb_sub_ttl > a')\n",
    "\n",
    "# 마우스 호버 액션\n",
    "time.sleep(3)\n",
    "actions = ActionChains(driver)\n",
    "actions.move_to_element(hover_el).perform() # perform == run\n",
    "print('[[호버 동작]]')\n",
    "# 대기시간\n",
    "time.sleep(1.5)\n",
    "print('[[매장메뉴 선택]]')\n",
    "menu_opt.click()\n",
    "\n",
    "print('[[페이지 이동 중]]')\n",
    "time.sleep(6.5)\n",
    "driver.find_element(By.CSS_SELECTOR, '.loca_search > h3 > a').click()\n",
    "time.sleep(0.5)\n",
    "driver.find_element(By.CSS_SELECTOR, '.sido_arae_box > li:nth-child(6) > a').click()\n",
    "time.sleep(0.5)\n",
    "driver.find_element(By.CSS_SELECTOR, '.gugun_arae_box > li:nth-child(1) > a').click()"
   ]
  },
  {
   "cell_type": "code",
   "execution_count": 7,
   "id": "9920d64b-c75a-4d4c-a875-bb080ec005a6",
   "metadata": {},
   "outputs": [],
   "source": [
    "# 현재 페이지 정보 가져오기\n",
    "star_list = []\n",
    "html = driver.page_source\n",
    "soup = bs(html, 'html.parser')\n",
    "contents = soup.select_one('.quickSearchResultBoxSidoGugun')\n",
    "listnames = contents.select('li')\n",
    "for listname in listnames:\n",
    "    star_list.append([listname['data-name'], listname['data-lat'], listname['data-long'], listname.select_one('p').text, listname.select_one('i')['class'][0]])\n",
    "\n",
    "driver.quit()\n"
   ]
  },
  {
   "cell_type": "code",
   "execution_count": 8,
   "id": "98904281-3124-4210-afb6-c811389fe665",
   "metadata": {},
   "outputs": [],
   "source": [
    "columns = ['name', 'lat', 'lon', 'addr', 'stype']\n",
    "starbucks = pd.DataFrame(star_list, columns=columns)"
   ]
  },
  {
   "cell_type": "code",
   "execution_count": 9,
   "id": "d0c4d13e-9caf-4426-a894-dfa166249238",
   "metadata": {
    "scrolled": true
   },
   "outputs": [
    {
     "data": {
      "text/html": [
       "<div>\n",
       "<style scoped>\n",
       "    .dataframe tbody tr th:only-of-type {\n",
       "        vertical-align: middle;\n",
       "    }\n",
       "\n",
       "    .dataframe tbody tr th {\n",
       "        vertical-align: top;\n",
       "    }\n",
       "\n",
       "    .dataframe thead th {\n",
       "        text-align: right;\n",
       "    }\n",
       "</style>\n",
       "<table border=\"1\" class=\"dataframe\">\n",
       "  <thead>\n",
       "    <tr style=\"text-align: right;\">\n",
       "      <th></th>\n",
       "      <th>name</th>\n",
       "      <th>lat</th>\n",
       "      <th>lon</th>\n",
       "      <th>addr</th>\n",
       "      <th>stype</th>\n",
       "    </tr>\n",
       "  </thead>\n",
       "  <tbody>\n",
       "  </tbody>\n",
       "</table>\n",
       "</div>"
      ],
      "text/plain": [
       "Empty DataFrame\n",
       "Columns: [name, lat, lon, addr, stype]\n",
       "Index: []"
      ]
     },
     "execution_count": 9,
     "metadata": {},
     "output_type": "execute_result"
    }
   ],
   "source": [
    "starbucks.head(10)"
   ]
  },
  {
   "cell_type": "code",
   "execution_count": 10,
   "id": "89b14b68-a41d-49bd-8339-36f52833b8e8",
   "metadata": {},
   "outputs": [
    {
     "name": "stdout",
     "output_type": "stream",
     "text": [
      "<class 'pandas.core.frame.DataFrame'>\n",
      "RangeIndex: 0 entries\n",
      "Data columns (total 5 columns):\n",
      " #   Column  Non-Null Count  Dtype \n",
      "---  ------  --------------  ----- \n",
      " 0   name    0 non-null      object\n",
      " 1   lat     0 non-null      object\n",
      " 2   lon     0 non-null      object\n",
      " 3   addr    0 non-null      object\n",
      " 4   stype   0 non-null      object\n",
      "dtypes: object(5)\n",
      "memory usage: 132.0+ bytes\n"
     ]
    }
   ],
   "source": [
    "# starbucks.groupby('stype').describe()\n",
    "starbucks.info()"
   ]
  },
  {
   "cell_type": "code",
   "execution_count": 11,
   "id": "00260711-fea4-4fb5-be70-0eea1bae33e2",
   "metadata": {
    "jupyter": {
     "source_hidden": true
    }
   },
   "outputs": [
    {
     "name": "stdout",
     "output_type": "stream",
     "text": [
      "20250102075216\n"
     ]
    }
   ],
   "source": [
    "timestamp = datetime.now().strftime('%Y%m%d%H%M%S')\n",
    "print(timestamp)"
   ]
  },
  {
   "cell_type": "code",
   "execution_count": 18,
   "id": "c3e778ea-ce49-421b-970b-3889ed7893f0",
   "metadata": {},
   "outputs": [
    {
     "name": "stdout",
     "output_type": "stream",
     "text": [
      "변환 완료: starbucks_20250102075417.csv\n",
      "hdfs 업로드 실패 - HTTPConnectionPool(host='datanode1', port=9864): Max retries exceeded with url: /webhdfs/v1/user/hadoop/starbucks_20250102075417.csv?op=CREATE&user.name=hadoop&namenoderpcaddress=namenode:9000&createflag=&createparent=true&overwrite=false&user.name=hadoop (Caused by NewConnectionError('<urllib3.connection.HTTPConnection object at 0x7fdc0ef4e250>: Failed to establish a new connection: [Errno 111] Connection refused'))\n"
     ]
    }
   ],
   "source": [
    "timestamp = datetime.now().strftime('%Y%m%d%H%M%S')\n",
    "csv_path = f'starbucks_{timestamp}.csv'\n",
    "csv_file = starbucks.to_csv(csv_path, index=True)\n",
    "print(f'변환 완료: {csv_path}')\n",
    "path = f'./resultData/{csv_path}'\n",
    "\n",
    "try:\n",
    "    path = f'/user/hadoop/{csv_path}'\n",
    "    hdfs = InsecureClient('http://bdata.iptime.org:9870', user='hadoop')\n",
    "    hdfs.upload(path, csv_path)\n",
    "    print('hdfs 업로드 완료')\n",
    "except Exception as e:\n",
    "    print(f'hdfs 업로드 실패 - {e}')\n"
   ]
  },
  {
   "cell_type": "code",
   "execution_count": 13,
   "id": "1e81437d-28e2-4c7f-9813-9d306ade6c1e",
   "metadata": {
    "jupyter": {
     "source_hidden": true
    }
   },
   "outputs": [
    {
     "name": "stdout",
     "output_type": "stream",
     "text": [
      "오류 발생 - division by zero\n"
     ]
    }
   ],
   "source": [
    "try:\n",
    "    print(120 / 0 * 33)\n",
    "except Exception as e:\n",
    "    print(f'오류 발생 - {e}')"
   ]
  },
  {
   "cell_type": "code",
   "execution_count": 14,
   "id": "8b6328a0-9e4d-4fcf-85fc-7c5ffb718471",
   "metadata": {
    "scrolled": true
   },
   "outputs": [
    {
     "data": {
      "text/plain": [
       "array([], shape=(0, 2), dtype=object)"
      ]
     },
     "execution_count": 14,
     "metadata": {},
     "output_type": "execute_result"
    }
   ],
   "source": [
    "data = starbucks.copy()\n",
    "coordinates = data[['lat', 'lon']].to_numpy()\n",
    "coordinates"
   ]
  },
  {
   "cell_type": "code",
   "execution_count": 15,
   "id": "578ae3a3-7e1b-4a6c-8d0c-423b1ca95cb0",
   "metadata": {
    "scrolled": true
   },
   "outputs": [
    {
     "data": {
      "text/plain": [
       "array([], shape=(0, 1), dtype=object)"
      ]
     },
     "execution_count": 15,
     "metadata": {},
     "output_type": "execute_result"
    }
   ],
   "source": [
    "place = data[['name']].to_numpy()\n",
    "place"
   ]
  },
  {
   "cell_type": "code",
   "execution_count": 16,
   "id": "18cfc447-e6b3-448a-b82b-dfeb156633e0",
   "metadata": {},
   "outputs": [
    {
     "ename": "IndexError",
     "evalue": "index 4 is out of bounds for axis 0 with size 0",
     "output_type": "error",
     "traceback": [
      "\u001b[0;31m---------------------------------------------------------------------------\u001b[0m",
      "\u001b[0;31mIndexError\u001b[0m                                Traceback (most recent call last)",
      "Cell \u001b[0;32mIn[16], line 1\u001b[0m\n\u001b[0;32m----> 1\u001b[0m cn_lat, cn_lon \u001b[38;5;241m=\u001b[39m \u001b[43mcoordinates\u001b[49m\u001b[43m[\u001b[49m\u001b[38;5;241;43m4\u001b[39;49m\u001b[43m]\u001b[49m\n\u001b[1;32m      2\u001b[0m \u001b[38;5;28mprint\u001b[39m(cn_lat, cn_lon)\n\u001b[1;32m      3\u001b[0m m \u001b[38;5;241m=\u001b[39m folium\u001b[38;5;241m.\u001b[39mMap(location\u001b[38;5;241m=\u001b[39m[cn_lat, cn_lon], zoom_start\u001b[38;5;241m=\u001b[39m\u001b[38;5;241m11\u001b[39m)\n",
      "\u001b[0;31mIndexError\u001b[0m: index 4 is out of bounds for axis 0 with size 0"
     ]
    }
   ],
   "source": [
    "cn_lat, cn_lon = coordinates[4]\n",
    "print(cn_lat, cn_lon)\n",
    "m = folium.Map(location=[cn_lat, cn_lon], zoom_start=11)\n",
    "\n",
    "for i, (lat, lon) in enumerate(coordinates):\n",
    "    # print(lat, type(lat))\n",
    "    folium.CircleMarker(\n",
    "        location=[lat, lon],\n",
    "        radius=10,\n",
    "        color='blue',\n",
    "        fill=True,\n",
    "        fill_color='skyblue',\n",
    "        fill_opacity=0.5,\n",
    "        tooltip=place[i]\n",
    "    ).add_to(m)\n",
    "    # 라벨 추가 (Marker로 위치 조정)\n",
    "    folium.Marker(\n",
    "        location=[float(lat) + 0.001, float(lon)],  # 위도 약간 증가\n",
    "        icon=folium.DivIcon(html=f'<div style=\"font-size: 9px; color: black; background-color: white; width:50px;white-space: nowrap; overflow: hidden;text-overflow: ellipsis;\">{place[i]}</div>')\n",
    "    ).add_to(m)\n",
    "# 확인\n",
    "m"
   ]
  },
  {
   "cell_type": "code",
   "execution_count": null,
   "id": "30f8d5c4-ae47-4932-b959-3008fa4677da",
   "metadata": {},
   "outputs": [],
   "source": []
  }
 ],
 "metadata": {
  "kernelspec": {
   "display_name": "Python 3 (ipykernel)",
   "language": "python",
   "name": "python3"
  },
  "language_info": {
   "codemirror_mode": {
    "name": "ipython",
    "version": 3
   },
   "file_extension": ".py",
   "mimetype": "text/x-python",
   "name": "python",
   "nbconvert_exporter": "python",
   "pygments_lexer": "ipython3",
   "version": "3.11.6"
  }
 },
 "nbformat": 4,
 "nbformat_minor": 5
}
