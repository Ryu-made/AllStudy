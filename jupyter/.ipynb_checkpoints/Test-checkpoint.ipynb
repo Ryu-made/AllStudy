{
 "cells": [
  {
   "cell_type": "code",
   "execution_count": 1,
   "id": "dd5ca441-f2a8-4adf-ba86-c4673124455b",
   "metadata": {},
   "outputs": [],
   "source": [
    "import requests as req"
   ]
  },
  {
   "cell_type": "code",
   "execution_count": 12,
   "id": "dd93f926-aa0f-4a5d-b67f-e0d35376d1c2",
   "metadata": {
    "collapsed": true,
    "jupyter": {
     "outputs_hidden": true
    },
    "scrolled": true
   },
   "outputs": [
    {
     "name": "stdout",
     "output_type": "stream",
     "text": [
      "<application xmlns=\"http://wadl.dev.java.net/2009/02\" xmlns:xs=\"http://www.w3.org/2001/XMLSchema\"><grammars><xs:schema xmlns:xs=\"http://www.w3.org/2001/XMLSchema\" attributeFormDefault=\"unqualified\" elementFormDefault=\"unqualified\">\n",
      "<xs:element name=\"GetPROGRAMListVO\" type=\"getPROGRAMListVO\"/>\n",
      "<xs:element name=\"header\" type=\"getPROGRAMListHeader\"/>\n",
      "<xs:element name=\"response\" type=\"getPROGRAMListResponse\"/>\n",
      "<xs:complexType name=\"getPROGRAMListResponse\">\n",
      "<xs:sequence>\n",
      "<xs:element minOccurs=\"0\" ref=\"header\"/>\n",
      "<xs:element minOccurs=\"0\" name=\"body\" type=\"getPROGRAMListBody\"/>\n",
      "</xs:sequence>\n",
      "</xs:complexType>\n",
      "<xs:complexType name=\"getPROGRAMListHeader\">\n",
      "<xs:sequence>\n",
      "<xs:element minOccurs=\"0\" name=\"resultCode\" type=\"xs:string\"/>\n",
      "<xs:element minOccurs=\"0\" name=\"resultMsg\" type=\"xs:string\"/>\n",
      "</xs:sequence>\n",
      "</xs:complexType>\n",
      "<xs:complexType name=\"getPROGRAMListBody\">\n",
      "<xs:sequence>\n",
      "<xs:element minOccurs=\"0\" name=\"items\">\n",
      "<xs:complexType>\n",
      "<xs:sequence>\n",
      "<xs:element maxOccurs=\"unbounded\" minOccurs=\"0\" name=\"item\" type=\"getPROGRAMListVO\"/>\n",
      "</xs:sequence>\n",
      "</xs:complexType>\n",
      "</xs:element>\n",
      "<xs:element minOccurs=\"0\" name=\"numOfRows\" type=\"xs:int\"/>\n",
      "<xs:element minOccurs=\"0\" name=\"pageNo\" type=\"xs:int\"/>\n",
      "<xs:element minOccurs=\"0\" name=\"totalCount\" type=\"xs:int\"/>\n",
      "</xs:sequence>\n",
      "</xs:complexType>\n",
      "<xs:complexType name=\"getPROGRAMListVO\">\n",
      "<xs:sequence>\n",
      "<xs:element minOccurs=\"0\" name=\"capacity\" type=\"xs:int\"/>\n",
      "<xs:element minOccurs=\"0\" name=\"classname\" type=\"xs:string\"/>\n",
      "<xs:element minOccurs=\"0\" name=\"fee\" type=\"xs:int\"/>\n",
      "<xs:element minOccurs=\"0\" name=\"programname\" type=\"xs:string\"/>\n",
      "<xs:element minOccurs=\"0\" name=\"registration\" type=\"xs:int\"/>\n",
      "<xs:element minOccurs=\"0\" name=\"remark\" type=\"xs:string\"/>\n",
      "<xs:element minOccurs=\"0\" name=\"roomname\" type=\"xs:string\"/>\n",
      "<xs:element minOccurs=\"0\" name=\"state\" type=\"xs:string\"/>\n",
      "<xs:element minOccurs=\"0\" name=\"targetname\" type=\"xs:string\"/>\n",
      "<xs:element minOccurs=\"0\" name=\"time\" type=\"xs:string\"/>\n",
      "<xs:element minOccurs=\"0\" name=\"trainingdate\" type=\"xs:string\"/>\n",
      "<xs:element minOccurs=\"0\" name=\"yearmonth\" type=\"xs:string\"/>\n",
      "</xs:sequence>\n",
      "</xs:complexType>\n",
      "</xs:schema>\n",
      "</grammars><resources base=\"http://openapi.bisco.or.kr/open-api/service/rest/hmsports/GetProgramInfoService\"><resource path=\"/\"><resource path=\"pPROGRAMList\"><method name=\"GET\"><request><param name=\"pageNo\" style=\"query\" default=\"1\" type=\"xs:int\"/><param name=\"numOfRows\" style=\"query\" default=\"10\" type=\"xs:int\"/></request><response><representation mediaType=\"application/xml\"/><representation mediaType=\"application/json\"/></response></method></resource></resource></resources></application>\n"
     ]
    }
   ],
   "source": [
    "url = 'http://openapi.bisco.or.kr/open-api/service/rest/hmsports/GetProgramInfoService?_wadl&_type=xml'\n",
    "# headers = {\"accept\": \"application/json\"}\n",
    "params = {'serviceKey' : 'OihsI4VW1JaBFc1gGKq0hpBvEBlS7BJRDod/xyNPshqWGPALqwNPTVlVFcSN8qiTpK+ITeV3Gborkqy9ELc/9w==' }\n",
    "d = req.get(url, params=params)\n",
    "print(d.text)"
   ]
  },
  {
   "cell_type": "code",
   "execution_count": null,
   "id": "150b8a7e-4b4d-4f19-bd9f-96402f6751a5",
   "metadata": {},
   "outputs": [],
   "source": []
  }
 ],
 "metadata": {
  "kernelspec": {
   "display_name": "Python 3 (ipykernel)",
   "language": "python",
   "name": "python3"
  },
  "language_info": {
   "codemirror_mode": {
    "name": "ipython",
    "version": 3
   },
   "file_extension": ".py",
   "mimetype": "text/x-python",
   "name": "python",
   "nbconvert_exporter": "python",
   "pygments_lexer": "ipython3",
   "version": "3.11.6"
  }
 },
 "nbformat": 4,
 "nbformat_minor": 5
}
