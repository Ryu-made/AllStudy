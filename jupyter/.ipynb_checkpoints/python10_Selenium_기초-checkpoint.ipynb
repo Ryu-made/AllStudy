{
 "cells": [
  {
   "cell_type": "markdown",
   "id": "70b21621-a2a7-479d-a1e4-53f42c3489bb",
   "metadata": {},
   "source": [
    "# Selenium 웹 크롤링 기초"
   ]
  },
  {
   "cell_type": "code",
   "execution_count": null,
   "id": "1d27c9eb-7aaa-4702-b75d-6211597b6428",
   "metadata": {
    "scrolled": true
   },
   "outputs": [],
   "source": [
    "# # 필수\n",
    "# !pip install selenium\n",
    "# !pip install webdriver-manager\n",
    "# # 옵션\n",
    "# !pip install webdriver-auto-update\n",
    "# !pip install chromedriver-autoinstaller\n",
    "# # 모듈 패키지 복구\n",
    "# !pip install -r requirements.txt"
   ]
  },
  {
   "cell_type": "code",
   "execution_count": null,
   "id": "dbf75e79-290b-4da4-987a-8c5fe6cb8837",
   "metadata": {
    "scrolled": true
   },
   "outputs": [],
   "source": [
    "%%bash\n",
    "# cd ~\n",
    "# wget https://storage.googleapis.com/chrome-for-testing-public/131.0.6778.108/linux64/chrome-headless-shell-linux64.zip\n",
    "# wget https://storage.googleapis.com/chrome-for-testing-public/131.0.6778.108/linux64/chromedriver-linux64.zip\n"
   ]
  },
  {
   "cell_type": "markdown",
   "id": "993c368f-4863-489d-afc2-97a1a76ddd28",
   "metadata": {},
   "source": [
    "### add installations\n",
    "* `apt-get update `\r",
    "* `\n",
    "apt install -y libatk1.0-0 libgtk-3-0 libgdk-pixbuf2.0-0 libgbm1 libxcomposite1 libxrandr2 libpangocairo-1.0-0 libpango-1.0-0 libcups2 libnss3 libxdamage1 libxkbcommon0 `\n",
    "* `\n",
    "apt-get install libasound264t 4"
   ]
  },
  {
   "cell_type": "markdown",
   "id": "5e40fec3-6a7d-4d2a-9dbf-05b4695f97d0",
   "metadata": {},
   "source": [
    "- https://storage.googleapis.com/chrome-for-testing-public/131.0.6778.204/linux64/chrome-linux64.zip\n",
    "- https://storage.googleapis.com/chrome-for-testing-public/131.0.6778.204/linux64/chrome-headless-shell-linux64.zip\n",
    "- https://storage.googleapis.com/chrome-for-testing-public/131.0.6778.204/linux64/chromedriver-linux64.zip"
   ]
  },
  {
   "cell_type": "code",
   "execution_count": null,
   "id": "146bd0fb-a7a3-4ca5-9253-6321932baf18",
   "metadata": {},
   "outputs": [],
   "source": [
    "# !pip install --upgrade selenium"
   ]
  },
  {
   "cell_type": "code",
   "execution_count": null,
   "id": "41935cf2-2dc1-4581-a8a0-a01ddd3b490e",
   "metadata": {},
   "outputs": [],
   "source": [
    "from selenium.webdriver.chrome.service import Service\n",
    "from selenium.webdriver.common.keys import Keys\n",
    "from selenium.webdriver.chrome.options import Options\n",
    "from selenium.webdriver.common.by import By\n",
    "from selenium import webdriver\n",
    "import time\n"
   ]
  },
  {
   "cell_type": "code",
   "execution_count": null,
   "id": "c611d84d-6cc3-49a8-8cc6-0d98b4ff3a5a",
   "metadata": {},
   "outputs": [],
   "source": [
    "# !cat /etc/os*"
   ]
  },
  {
   "cell_type": "code",
   "execution_count": null,
   "id": "cc20f1eb-ff2e-4f5d-9021-c8f16b3b388f",
   "metadata": {},
   "outputs": [],
   "source": [
    "# !pwd"
   ]
  },
  {
   "cell_type": "code",
   "execution_count": null,
   "id": "026555a8-4e22-41de-b1bf-79b052f6e25a",
   "metadata": {
    "scrolled": true
   },
   "outputs": [],
   "source": [
    "# Chrome 옵션 설정\n",
    "options = Options()\n",
    "options.binary_location = '/usr/local/bin/chrome-headless-shell' # 크롬 브라우저 경로\n",
    "# options.add_argument('--headless')\n",
    "options.add_argument('--no-sandbox') # 실행 가드? 해제\n",
    "# options.add_argument('--log-path=/usr/local/bin/chromedriver.log')\n",
    "options.add_argument('--disable-dev-shm-usage') # 공유 메모리 비활성화\n",
    "options.add_argument('--disable-gpu') # GPU 비활성화\n",
    "options.add_argument('--window-size=1920,1080') # 가상 화면크기 설정\n",
    "# ChromeDriver 설정\n",
    "# service = Service('/usr/local/bin/chromedriver')\n",
    "service = webdriver.ChromeService() # executable_path='/usr/local/bin/chromedriver'\n",
    "driver = webdriver.Chrome(service=service, options=options)"
   ]
  },
  {
   "cell_type": "code",
   "execution_count": null,
   "id": "98f295fa-43b3-46d9-aa25-a0838f49696f",
   "metadata": {
    "scrolled": true
   },
   "outputs": [],
   "source": [
    "# Selenium 테스트\n",
    "url = 'https://melon.com'\n",
    "driver.get(url)\n",
    "# print(driver.title)\n",
    "driver.maximize_window()\n",
    "el = driver.find_element(By.ID, 'top_search') # id 선택자로 top_search와 일치하는 요소 찾기\n",
    "el.clear() # 텍스트 내용 지우기\n",
    "el.send_keys('방탄소년단 proof')\n",
    "time.sleep(1)\n",
    "el.send_keys(Keys.RETURN) # 엔터입력\n",
    "album = driver.find_element(By.XPATH, '//*[@id=\"divCollection\"]/ul/li[4]/a/span')\n",
    "album.click() # 클릭하기\n",
    "driver.find_element(By.XPATH, '//*[@id=\"frm\"]/div/ul/li/div/a').click() # 클릭하기\n",
    "driver.find_element(By.XPATH, '//*[@id=\"frm\"]/div/table/tbody/tr[6]/td[3]/div/a').click() # 클릭하기\n",
    "\n",
    "lyrics = driver.find_element(By.ID, 'd_video_summary').text\n",
    "print(lyrics)\n"
   ]
  },
  {
   "cell_type": "code",
   "execution_count": null,
   "id": "ba4cabc3-29fc-40a9-86ed-c4e6463c6d4f",
   "metadata": {},
   "outputs": [],
   "source": [
    "# 다른 url로 Selenium 테스트\n",
    "url = 'https://github.io'\n",
    "driver.get(url)\n",
    "print(driver.title)"
   ]
  },
  {
   "cell_type": "code",
   "execution_count": null,
   "id": "120756d9-b478-4b38-9cab-3ac3824e5fa6",
   "metadata": {},
   "outputs": [],
   "source": [
    "url = 'https://melon.com'\n",
    "driver.get(url)\n",
    "# print(driver.title)\n",
    "driver.maximize_window()\n",
    "el = driver.find_element(By.ID, 'top_search')\n",
    "el.clear() # 텍스트 내용 지우기\n",
    "el.send_keys('APT 로제')\n",
    "time.sleep(1)\n",
    "el.send_keys(Keys.RETURN) # 엔터입력\n",
    "lyrics = driver.find_element(By.XPATH, '//*[@id=\"frm_songList\"]/div/table/tbody/tr[1]/td[3]/div/div/a/span')\n",
    "driver.quit()\n",
    "lyrics"
   ]
  },
  {
   "cell_type": "code",
   "execution_count": null,
   "id": "9cb409d2-f525-46f7-8766-03095f7e22b9",
   "metadata": {},
   "outputs": [],
   "source": [
    "print(lyrics.text)"
   ]
  },
  {
   "cell_type": "code",
   "execution_count": null,
   "id": "a465e19a-ff5c-4e15-9fa8-1255b408cc1d",
   "metadata": {},
   "outputs": [],
   "source": []
  }
 ],
 "metadata": {
  "kernelspec": {
   "display_name": "Python 3 (ipykernel)",
   "language": "python",
   "name": "python3"
  },
  "language_info": {
   "codemirror_mode": {
    "name": "ipython",
    "version": 3
   },
   "file_extension": ".py",
   "mimetype": "text/x-python",
   "name": "python",
   "nbconvert_exporter": "python",
   "pygments_lexer": "ipython3",
   "version": "3.11.6"
  }
 },
 "nbformat": 4,
 "nbformat_minor": 5
}
