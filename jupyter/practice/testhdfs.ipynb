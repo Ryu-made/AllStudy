{
 "cells": [
  {
   "cell_type": "code",
   "execution_count": 2,
   "id": "978ed51c-b09b-4c5f-9ba8-96465fc400e2",
   "metadata": {},
   "outputs": [],
   "source": [
    "from hdfs import InsecureClient\n",
    "import pandas as pd"
   ]
  },
  {
   "cell_type": "code",
   "execution_count": 5,
   "id": "cc07871a-6b68-4528-a5b7-55009cd38d7b",
   "metadata": {},
   "outputs": [],
   "source": [
    "fs = InsecureClient('http://bdata.iptime.org:9999', user='hadoop')"
   ]
  },
  {
   "cell_type": "code",
   "execution_count": 7,
   "id": "3f2fc20d-9a19-4406-888a-982746000ea2",
   "metadata": {},
   "outputs": [],
   "source": [
    "with fs.read('/user/hadoop/sports/체육시설 강좌정보_20240202.csv', encoding='euc-kr') as reader:\n",
    "    data = pd.read_csv(reader)"
   ]
  },
  {
   "cell_type": "code",
   "execution_count": null,
   "id": "6f286a19-86f4-4aa3-b2dd-1aa64c2e3aff",
   "metadata": {},
   "outputs": [],
   "source": []
  }
 ],
 "metadata": {
  "kernelspec": {
   "display_name": "Python 3 (ipykernel)",
   "language": "python",
   "name": "python3"
  },
  "language_info": {
   "codemirror_mode": {
    "name": "ipython",
    "version": 3
   },
   "file_extension": ".py",
   "mimetype": "text/x-python",
   "name": "python",
   "nbconvert_exporter": "python",
   "pygments_lexer": "ipython3",
   "version": "3.11.6"
  }
 },
 "nbformat": 4,
 "nbformat_minor": 5
}
