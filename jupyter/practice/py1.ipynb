{
 "cells": [
  {
   "cell_type": "code",
   "execution_count": 1,
   "id": "5eb37a4a-4be2-4939-9b9e-b16258580298",
   "metadata": {},
   "outputs": [
    {
     "name": "stdout",
     "output_type": "stream",
     "text": [
      "python\n"
     ]
    }
   ],
   "source": [
    "print('python')"
   ]
  },
  {
   "cell_type": "code",
   "execution_count": 2,
   "id": "2ac912b5-eb7f-48e9-bbb2-328d9b8df8fc",
   "metadata": {},
   "outputs": [
    {
     "name": "stdout",
     "output_type": "stream",
     "text": [
      "<class 'int'>\n"
     ]
    }
   ],
   "source": [
    "print(int)"
   ]
  },
  {
   "cell_type": "code",
   "execution_count": 3,
   "id": "19a9d7f3-862f-4878-a0ce-d747d98f929e",
   "metadata": {},
   "outputs": [
    {
     "name": "stdout",
     "output_type": "stream",
     "text": [
      "<class 'float'>\n"
     ]
    }
   ],
   "source": [
    "print(float)"
   ]
  },
  {
   "cell_type": "code",
   "execution_count": 14,
   "id": "b2c755ab-4cd4-4086-9798-abb00f9cf743",
   "metadata": {},
   "outputs": [
    {
     "name": "stdout",
     "output_type": "stream",
     "text": [
      "<class 'int'> 201\n"
     ]
    }
   ],
   "source": [
    "a = int('201')\n",
    "print(type(a), a)"
   ]
  },
  {
   "cell_type": "code",
   "execution_count": 13,
   "id": "5b2f89d8-3c02-42af-9837-758ac4e45286",
   "metadata": {},
   "outputs": [
    {
     "name": "stdout",
     "output_type": "stream",
     "text": [
      "<class 'str'> 20\n"
     ]
    }
   ],
   "source": [
    "b = str(20)\n",
    "print(type(b), b)"
   ]
  },
  {
   "cell_type": "code",
   "execution_count": 12,
   "id": "77d92e9d-1cf9-434e-9d48-4b47a79577d6",
   "metadata": {},
   "outputs": [
    {
     "name": "stdout",
     "output_type": "stream",
     "text": [
      "<class 'list'> ['3', '0', '0']\n"
     ]
    }
   ],
   "source": [
    "c = list('300')\n",
    "print(type(c), c)"
   ]
  },
  {
   "cell_type": "code",
   "execution_count": 20,
   "id": "ccc569d7-2319-4e23-b41e-e9c523c1d308",
   "metadata": {},
   "outputs": [
    {
     "name": "stdout",
     "output_type": "stream",
     "text": [
      "<class 'dict'> {'a': 'b', 'c': 'd', 'e': 'f'}\n"
     ]
    }
   ],
   "source": [
    "d = dict(['ab', 'cd', 'ef'])\n",
    "print(type(d), d)"
   ]
  },
  {
   "cell_type": "code",
   "execution_count": 21,
   "id": "3aec7bf2-a2a0-41a2-b73a-e3a04a497dda",
   "metadata": {},
   "outputs": [
    {
     "name": "stdout",
     "output_type": "stream",
     "text": [
      "<class 'tuple'> ('456', '123', '789')\n"
     ]
    }
   ],
   "source": [
    "e = tuple({'123', '456', '789'})\n",
    "print(type(e), e)"
   ]
  },
  {
   "cell_type": "code",
   "execution_count": 29,
   "id": "cc51d7dd-6237-4423-952c-13b194a9f6ea",
   "metadata": {},
   "outputs": [
    {
     "name": "stdout",
     "output_type": "stream",
     "text": [
      "<class 'list'> [(3, 'a'), (4, 'b')]\n"
     ]
    }
   ],
   "source": [
    "f = list({3: 'a', 4: 'b'}.items())\n",
    "print(type(f), f)"
   ]
  },
  {
   "cell_type": "code",
   "execution_count": null,
   "id": "a39631ab-9c52-4580-b795-0761c770367f",
   "metadata": {},
   "outputs": [],
   "source": []
  }
 ],
 "metadata": {
  "kernelspec": {
   "display_name": "Python 3 (ipykernel)",
   "language": "python",
   "name": "python3"
  },
  "language_info": {
   "codemirror_mode": {
    "name": "ipython",
    "version": 3
   },
   "file_extension": ".py",
   "mimetype": "text/x-python",
   "name": "python",
   "nbconvert_exporter": "python",
   "pygments_lexer": "ipython3",
   "version": "3.11.6"
  }
 },
 "nbformat": 4,
 "nbformat_minor": 5
}
