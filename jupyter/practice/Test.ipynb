{
 "cells": [
  {
   "cell_type": "code",
   "execution_count": 1,
   "id": "dd5ca441-f2a8-4adf-ba86-c4673124455b",
   "metadata": {},
   "outputs": [],
   "source": [
    "import requests as req"
   ]
  },
  {
   "cell_type": "code",
   "execution_count": null,
   "id": "dd93f926-aa0f-4a5d-b67f-e0d35376d1c2",
   "metadata": {},
   "outputs": [],
   "source": [
    "url = 'http://openapi.bisco.or.kr/open-api/service/rest/hmsports/GetProgramInfoService?_wadl&_type=xml'\n",
    "headers = {\"Accept\": \"application/json\"}\n",
    "params = {'serviceKey' : 'OihsI4VW1JaBFc1gGKq0hpBvEBlS7BJRDod%2FxyNPshqWGPALqwNPTVlVFcSN8qiTpK%2BITeV3Gborkqy9ELc%2F9w%3D%3D' }\n",
    "d = req.get(url, params=params, headers=headers)\n",
    "print(d.text)"
   ]
  },
  {
   "cell_type": "code",
   "execution_count": 9,
   "id": "150b8a7e-4b4d-4f19-bd9f-96402f6751a5",
   "metadata": {},
   "outputs": [],
   "source": [
    "arr1 = ['s1', 's2', 's3']\n",
    "arr2 = ['p1', 'p2', 'p3']\n",
    "arr3 = ['r1', 'r2', 'r3']\n",
    "vals = [3, 7, 2]\n",
    "dics = {\n",
    "    'col1': arr1,\n",
    "    'col2': arr2,\n",
    "    'col3': arr3,\n",
    "    'value': vals\n",
    "}"
   ]
  },
  {
   "cell_type": "code",
   "execution_count": 10,
   "id": "3c58b39e-ffaf-4541-bf1a-c5c3b1bc758f",
   "metadata": {},
   "outputs": [
    {
     "data": {
      "text/html": [
       "<div>\n",
       "<style scoped>\n",
       "    .dataframe tbody tr th:only-of-type {\n",
       "        vertical-align: middle;\n",
       "    }\n",
       "\n",
       "    .dataframe tbody tr th {\n",
       "        vertical-align: top;\n",
       "    }\n",
       "\n",
       "    .dataframe thead th {\n",
       "        text-align: right;\n",
       "    }\n",
       "</style>\n",
       "<table border=\"1\" class=\"dataframe\">\n",
       "  <thead>\n",
       "    <tr style=\"text-align: right;\">\n",
       "      <th></th>\n",
       "      <th>col1</th>\n",
       "      <th>col2</th>\n",
       "      <th>col3</th>\n",
       "      <th>value</th>\n",
       "    </tr>\n",
       "  </thead>\n",
       "  <tbody>\n",
       "    <tr>\n",
       "      <th>0</th>\n",
       "      <td>s1</td>\n",
       "      <td>p1</td>\n",
       "      <td>r1</td>\n",
       "      <td>3</td>\n",
       "    </tr>\n",
       "    <tr>\n",
       "      <th>1</th>\n",
       "      <td>s2</td>\n",
       "      <td>p2</td>\n",
       "      <td>r2</td>\n",
       "      <td>7</td>\n",
       "    </tr>\n",
       "    <tr>\n",
       "      <th>2</th>\n",
       "      <td>s3</td>\n",
       "      <td>p3</td>\n",
       "      <td>r3</td>\n",
       "      <td>2</td>\n",
       "    </tr>\n",
       "  </tbody>\n",
       "</table>\n",
       "</div>"
      ],
      "text/plain": [
       "  col1 col2 col3  value\n",
       "0   s1   p1   r1      3\n",
       "1   s2   p2   r2      7\n",
       "2   s3   p3   r3      2"
      ]
     },
     "execution_count": 10,
     "metadata": {},
     "output_type": "execute_result"
    }
   ],
   "source": [
    "import pandas as pd\n",
    "samp = pd.DataFrame(dics)\n",
    "samp"
   ]
  },
  {
   "cell_type": "code",
   "execution_count": 13,
   "id": "99cee72e-790b-45bc-8ad1-b87439883484",
   "metadata": {},
   "outputs": [
    {
     "name": "stdout",
     "output_type": "stream",
     "text": [
      "4.0\n"
     ]
    }
   ],
   "source": [
    "import math\n",
    "a = math.log2(16)\n",
    "print(a)"
   ]
  },
  {
   "cell_type": "code",
   "execution_count": 15,
   "id": "7a2c8a62-020e-4c06-a314-fccbe1830111",
   "metadata": {},
   "outputs": [
    {
     "name": "stdout",
     "output_type": "stream",
     "text": [
      "3.0\n"
     ]
    }
   ],
   "source": [
    "b = math.log(64, 4)\n",
    "print(b)"
   ]
  },
  {
   "cell_type": "code",
   "execution_count": null,
   "id": "7fd92090-efcb-4afe-be5e-811bb940c0de",
   "metadata": {
    "scrolled": true
   },
   "outputs": [],
   "source": [
    "url = 'http://apis.data.go.kr/B551014/SRVC_API_SFMS_FACI/TODZ_API_SFMS_FACI?pageNo=1&numOfRows=20'\n",
    "# url = 'https://apis.data.go.kr/B551014/SRVC_API_SFMS_FACI/TODZ_API_SFMS_FACI?serviceKey=GrzE6lSahh65qTdF%2B5ZL3L0oerDRfmClMgea66%2FeT7QNhsIONhnPjLNcaajESy4n24MAVUXwMYKac%2BykzIO6SA%3D%3D&pageNo=1&numOfRows=20&resultType=json'\n",
    "# params = {\n",
    "#    'serviceKey' : 'GrzE6lSahh65qTdF%2B5ZL3L0oerDRfmClMgea66%2FeT7QNhsIONhnPjLNcaajESy4n24MAVUXwMYKac%2BykzIO6SA%3D%3D',\n",
    "#     'resultType' : 'json'\n",
    "# }\n",
    "params = {\n",
    "    'serviceKey' : 'GrzE6lSahh65qTdF+5ZL3L0oerDRfmClMgea66/eT7QNhsIONhnPjLNcaajESy4n24MAVUXwMYKac+ykzIO6SA==',\n",
    "    'resultType' : 'json'\n",
    "}\n",
    "# headers = {'accept' : 'application/json'}\n",
    "# headers = { \n",
    "    # 'user-agent' : 'Mozilla/5.0 (Windows NT 10.0; Win64; x64; rv:133.0) Gecko/20100101 Firefox/133.0', \n",
    "    # 'accept' : 'application/json' \n",
    "# }\n",
    "r = req.get(url\n",
    "            ,params=params\n",
    "            # ,headers=headers\n",
    "           )\n",
    "j = r.json()\n",
    "\n",
    "print(j)"
   ]
  },
  {
   "cell_type": "code",
   "execution_count": 4,
   "id": "2587aa13-595f-4f37-b8d6-a8440b5b6dcc",
   "metadata": {},
   "outputs": [
    {
     "data": {
      "text/plain": [
       "{'Date': 'Wed, 15 Jan 2025 00:28:41 GMT', 'Server': 'Apache', 'Set-Cookie': 'WMONID=ssiAaPz_aHg; Expires=Thu, 15-Jan-2026 09:28:41 GMT; Path=/, JSESSIONID=7IAKKi_9Ab7E-h3gspIlIUxYk7xfZkhzDWAjEX1k.node10; path=/', 'Content-Language': 'en-US', 'Keep-Alive': 'timeout=5, max=1000', 'Connection': 'Keep-Alive', 'Transfer-Encoding': 'chunked', 'Content-Type': 'text/html;charset=UTF-8'}"
      ]
     },
     "execution_count": 4,
     "metadata": {},
     "output_type": "execute_result"
    }
   ],
   "source": [
    "import requests as req\n",
    "url = 'https://sillok.history.go.kr/main/main.do'\n",
    "headers = { \n",
    "    'user-agent' : 'Mozilla/5.0 (Windows NT 10.0; Win64; x64; rv:133.0) Gecko/20100101 Firefox/133.0',\n",
    "    'user-agent' : 'Mozilla/5.0 (Windows NT 10.0; Win64; x64) AppleWebKit/537.36 (KHTML, like Gecko) Chrome/131.0.0.0 Safari/537.36'\n",
    "}\n",
    "# \n",
    "res = req.get(url, headers=headers)\n",
    "res.headers"
   ]
  },
  {
   "cell_type": "code",
   "execution_count": null,
   "id": "e4f8ac05-da4b-4bc3-9ca6-dd8bd2ed08bf",
   "metadata": {},
   "outputs": [],
   "source": []
  }
 ],
 "metadata": {
  "kernelspec": {
   "display_name": "Python 3 (ipykernel)",
   "language": "python",
   "name": "python3"
  },
  "language_info": {
   "codemirror_mode": {
    "name": "ipython",
    "version": 3
   },
   "file_extension": ".py",
   "mimetype": "text/x-python",
   "name": "python",
   "nbconvert_exporter": "python",
   "pygments_lexer": "ipython3",
   "version": "3.11.6"
  }
 },
 "nbformat": 4,
 "nbformat_minor": 5
}
