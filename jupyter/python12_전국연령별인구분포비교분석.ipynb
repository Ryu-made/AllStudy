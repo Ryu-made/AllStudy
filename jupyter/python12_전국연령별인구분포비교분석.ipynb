{
 "cells": [
  {
   "cell_type": "markdown",
   "id": "9d97377d-f71f-42c9-ac04-8fe47c1de472",
   "metadata": {},
   "source": [
    "# 연령별 인구분포 비교분석"
   ]
  },
  {
   "cell_type": "markdown",
   "id": "5133250a-0d3a-4cef-a75b-23ac9dd77365",
   "metadata": {},
   "source": [
    "- https://jumin.mois.go.kr/#\n",
    "- 연령별 인구분포"
   ]
  },
  {
   "cell_type": "code",
   "execution_count": 1,
   "id": "effb7de0-6587-467c-b899-977e1033de9a",
   "metadata": {},
   "outputs": [],
   "source": [
    "import matplotlib\n",
    "import matplotlib.pyplot as plt\n",
    "import matplotlib.font_manager as fm\n",
    "import seaborn as sns\n",
    "\n",
    "import pandas as pd\n",
    "from pandas.plotting import parallel_coordinates as pac\n",
    "import numpy as np\n",
    "\n",
    "from hdfs import InsecureClient"
   ]
  },
  {
   "cell_type": "code",
   "execution_count": 2,
   "id": "456c9905-d86b-4130-a575-9f126187e367",
   "metadata": {},
   "outputs": [],
   "source": [
    "plt.style.use('fivethirtyeight')\n",
    "\n",
    "d2coding_path = './D2Coding-Ver1.3.2-20180524.ttf' # 폰트 경로\n",
    "fm.fontManager.addfont(d2coding_path)\n",
    "plt.rcParams['font.family'] = 'D2Coding'\n",
    "\n",
    "matplotlib.rcParams['axes.unicode_minus'] = False"
   ]
  },
  {
   "cell_type": "code",
   "execution_count": 5,
   "id": "97065279-9192-4c06-a606-221fae1ba498",
   "metadata": {
    "scrolled": true
   },
   "outputs": [],
   "source": [
    "client_hdfs = InsecureClient('http://bdata.iptime.org:9999/', user='hadoop')\n",
    "# _file = open('./dataset/연령별인구현황_연간_2008-2013.csv', 'r', encoding='euc-kr')\n",
    "# print(_file.read()[:500])\n",
    "# _file.close()"
   ]
  },
  {
   "cell_type": "raw",
   "id": "5d7ee0f4-2238-4ebe-ab40-8312475d633f",
   "metadata": {
    "collapsed": true,
    "jupyter": {
     "outputs_hidden": true
    },
    "scrolled": true
   },
   "source": [
    "import os\n",
    "f_dir = '/home/jovyan/jupyter/dataset/'\n",
    "f_list = os.listdir(f_dir)\n",
    "for f in f_list:\n",
    "    if f.startswith('연령별인구현황_연간'): \n",
    "        print(f)\n",
    "        client_hdfs.upload(local_path=f'{f_dir}{f}', hdfs_path='/user/ryu/')\n",
    "        \n",
    "# client_hdfs.upload('/user/ryu/"
   ]
  },
  {
   "cell_type": "code",
   "execution_count": 6,
   "id": "aa1d2cb2-1977-4df8-aaa1-41ab3a07ecec",
   "metadata": {
    "scrolled": true
   },
   "outputs": [
    {
     "name": "stdout",
     "output_type": "stream",
     "text": [
      "Index(['행정구역', '2008년_계_총인구수', '2008년_계_연령구간인구수', '2008년_계_0~9세',\n",
      "       '2008년_계_10~19세', '2008년_계_20~29세', '2008년_계_30~39세', '2008년_계_40~49세',\n",
      "       '2008년_계_50~59세', '2008년_계_60~69세',\n",
      "       ...\n",
      "       '2013년_여_10~19세', '2013년_여_20~29세', '2013년_여_30~39세', '2013년_여_40~49세',\n",
      "       '2013년_여_50~59세', '2013년_여_60~69세', '2013년_여_70~79세', '2013년_여_80~89세',\n",
      "       '2013년_여_90~99세', '2013년_여_100세 이상'],\n",
      "      dtype='object', length=235)\n"
     ]
    }
   ],
   "source": [
    "\n",
    "data = []\n",
    "data_dir = '/user/hadoop/dataset'\n",
    "paths = ['연령별인구현황_연간_2008-2013.csv', '연령별인구현황_연간_2014-2019.csv', '연령별인구현황_연간_2020-2023.csv']\n",
    "for path in paths:\n",
    "    with client_hdfs.read(f'{data_dir}/{path}', encoding='euc-kr') as reader:\n",
    "        data.append(pd.read_csv(reader))\n",
    "\n",
    "print(data[0].columns)"
   ]
  },
  {
   "cell_type": "code",
   "execution_count": null,
   "id": "ac733abe-5b67-423c-a0b4-7c815819ec77",
   "metadata": {
    "jupyter": {
     "source_hidden": true
    },
    "scrolled": true
   },
   "outputs": [],
   "source": [
    "for i in range(1, 3):\n",
    "    print(i)"
   ]
  },
  {
   "cell_type": "markdown",
   "id": "ca1b4729-4d40-4b0c-ae01-a075df0ba254",
   "metadata": {},
   "source": [
    "## Pandas의 merge와 concat 함수"
   ]
  },
  {
   "cell_type": "markdown",
   "id": "5f069613-270f-4c4c-bff3-33f331bbd2ce",
   "metadata": {},
   "source": [
    "### merge"
   ]
  },
  {
   "cell_type": "code",
   "execution_count": null,
   "id": "b0b668f2-d290-4637-88d5-26afce05b095",
   "metadata": {
    "scrolled": true
   },
   "outputs": [],
   "source": [
    "import pandas as pd\n",
    "\n",
    "test1 = {'key': ['A', 'B', 'C'], 'val1': [1, 2, 3]}\n",
    "test2 = {'key': ['A', 'B', 'E'], 'val2': [2, 4, 8]}\n",
    "df1 = pd.DataFrame(test1)\n",
    "df2 = pd.DataFrame(test2)\n",
    "mdf_in = pd.merge(df1, df2, how='inner', on='key')\n",
    "mdf_le = pd.merge(df1, df2, how='left', on='key')\n",
    "print(mdf_in)\n",
    "print(mdf_le)"
   ]
  },
  {
   "cell_type": "markdown",
   "id": "fe02f94f-7b4b-486a-a1d9-5e89b0802c6d",
   "metadata": {},
   "source": [
    "### concat"
   ]
  },
  {
   "cell_type": "code",
   "execution_count": null,
   "id": "8b97879a-21eb-48e7-81aa-e16852a29ac5",
   "metadata": {
    "scrolled": true
   },
   "outputs": [],
   "source": [
    "import pandas as pd\n",
    "\n",
    "test1 = {'key': ['A', 'B', 'C'], 'val1': [1, 2, 3]}\n",
    "test2 = {'key': ['A', 'B', 'E'], 'val2': [2, 4, 8]}\n",
    "df1 = pd.DataFrame(test1)\n",
    "df2 = pd.DataFrame(test2)\n",
    "\n",
    "cdf = pd.concat([df1, df2])\n",
    "# 옵션 추가하기 (기본값: axis=0, ignore_index=False)\n",
    "cdf_a = pd.concat([df1, df2], axis=1)\n",
    "cdf_b = pd.concat([df1, df2], ignore_index=True)\n",
    "print(cdf)\n",
    "print(cdf_a)\n",
    "print(cdf_b)"
   ]
  },
  {
   "cell_type": "code",
   "execution_count": null,
   "id": "5ba9c9d1-4662-4588-870a-13a6e5669d80",
   "metadata": {},
   "outputs": [],
   "source": [
    "# import pandas as pd (already imported)\n",
    "\n",
    "def merge(data, on):\n",
    "    # if not data: \n",
    "    #     raise ValueError('At least one DataFrame is required.')\n",
    "    res = data[0]\n",
    "    for i in range(1, len(data)):\n",
    "        res = pd.merge(res, data[i], how='left', on=on)\n",
    "    return res"
   ]
  },
  {
   "cell_type": "code",
   "execution_count": null,
   "id": "77989c0a-65ca-4ccf-9635-166bf4851ac0",
   "metadata": {
    "scrolled": true
   },
   "outputs": [],
   "source": [
    "data_m = merge(data, on='행정구역')\n",
    "# data_c = pd.concat(data, axis=1)\n",
    "data_m"
   ]
  },
  {
   "cell_type": "code",
   "execution_count": null,
   "id": "742748aa-6b12-469b-a002-74e76235bd50",
   "metadata": {},
   "outputs": [],
   "source": [
    "print(len(data_m))"
   ]
  },
  {
   "cell_type": "code",
   "execution_count": null,
   "id": "10587c1d-16b0-4d21-bd8b-2c8ba39ef327",
   "metadata": {},
   "outputs": [],
   "source": [
    "data_m.rename(columns={'행정구역':'region'}, inplace=True) # inplace옵션: 원본 데이터프레임의 데이터손실 발생 여부\n",
    "data_m.head(10)"
   ]
  },
  {
   "cell_type": "code",
   "execution_count": null,
   "id": "ac7580b7-ee7f-4bbb-af68-65ffab696622",
   "metadata": {
    "scrolled": true
   },
   "outputs": [],
   "source": [
    "# data_g = data_m[data_m.columns[data_m.columns.str.contains('region|년_남_|년_여_')]]\n",
    "# data_g = data_m[~data_m.columns[data_m.columns.str.contains('년_남_|년_여_')]] # ~ 연산자는 not을 의미함\n",
    "# gdata = mdata[mdata.columns[~mdata.columns.str.contains('인구수|계_')]]\n",
    "data_g = data_m[data_m.columns[~data_m.columns.str.contains('인구수|계_')]]\n",
    "data_g"
   ]
  },
  {
   "cell_type": "code",
   "execution_count": null,
   "id": "ad447637-bf5a-4402-9b44-ca813d8198cd",
   "metadata": {},
   "outputs": [],
   "source": [
    "data_r = data_g.melt(id_vars=['region'], var_name='type', value_name='value')"
   ]
  },
  {
   "cell_type": "code",
   "execution_count": null,
   "id": "cc01daf9-9fc1-45fd-920d-47b65dbaef52",
   "metadata": {
    "scrolled": true
   },
   "outputs": [],
   "source": [
    "# 컬럼 하나를 언더바(_) 기준으로 여러 컬럼으로 나누고 기존 컬럼 삭제\n",
    "data_r[['year', 'gender', 'age']] = data_r['type'].str.split('_', expand=True)\n",
    "del data_r['type']\n",
    "# 문자열 내용 + 타입 변경\n",
    "data_r['value'] = data_r['value'].str.replace(',', '').astype(float)\n",
    "data_r['region'] = data_r['region'].str.replace(r'\\(\\d+\\)', '', regex=True)\n",
    "data_r['year'] = pd.to_datetime(data_r['year'], format='%Y년')"
   ]
  },
  {
   "cell_type": "code",
   "execution_count": null,
   "id": "2f5bf818-6074-4bee-a14e-bf94812993bc",
   "metadata": {},
   "outputs": [],
   "source": [
    "# data_r_1 = data_r[~data_r['region'].str.contains('전국')]\n",
    "data_r = data_r.drop(index=0) # 여러 행 제거 = 배열 형식 or range()\n",
    "data_r.head()"
   ]
  },
  {
   "cell_type": "code",
   "execution_count": null,
   "id": "b4264153-d36a-410a-af8a-71b7fc5b56d5",
   "metadata": {},
   "outputs": [],
   "source": [
    "data1 = data_r.copy()\n",
    "\n",
    "f1 = data1['year'].dt.year == 2008\n",
    "\n",
    "data1 = data1[f1].groupby(['region', 'age'])['value'].sum().reset_index()\n",
    "data1.head()"
   ]
  },
  {
   "cell_type": "code",
   "execution_count": null,
   "id": "fda2bc94-0122-40fa-96b1-0908adf70a47",
   "metadata": {},
   "outputs": [],
   "source": [
    "# 각 지역에 따른 인구수 백분율\n",
    "data1['value'] = data1.groupby(['region'])['value'].transform(lambda x: 100 * x / float(x.sum()))\n",
    "data1.head()"
   ]
  },
  {
   "cell_type": "code",
   "execution_count": null,
   "id": "b2990b33-cbdd-426b-bd96-2ea5c8b53f03",
   "metadata": {
    "scrolled": true
   },
   "outputs": [],
   "source": [
    "# data1 = data1.dropna() # NaN 지우기\n",
    "# data1 = data1.fillna(0) # NaN을 0으로 채우기\n",
    "data1 = data1.fillna(0)\n",
    "data1.head(110)"
   ]
  },
  {
   "cell_type": "code",
   "execution_count": null,
   "id": "c08d8a7e-022b-49e7-a50b-dfba0106dcae",
   "metadata": {
    "scrolled": true
   },
   "outputs": [],
   "source": [
    "piv = data1.pivot(index='region', columns='age', values='value')\n",
    "args = np.argsort(piv.columns.str.extract(r'(\\d+)', expand=False).astype(int))\n",
    "print(args)\n",
    "piv = piv.iloc[:,args]\n",
    "piv.head()"
   ]
  },
  {
   "cell_type": "code",
   "execution_count": null,
   "id": "2163944c-5981-4059-825d-f72ba353a2f9",
   "metadata": {
    "scrolled": true
   },
   "outputs": [],
   "source": [
    "piv[['0~9세','10~19세','20~29세']]"
   ]
  },
  {
   "cell_type": "code",
   "execution_count": null,
   "id": "f4501c69-4247-4ae3-a68c-ef10a5862f12",
   "metadata": {
    "scrolled": true
   },
   "outputs": [],
   "source": [
    "plt.figure(figsize=(10,10))\n",
    "plt.title('2008년 지역별 연령 분포 비교')\n",
    "sns.heatmap(piv, cmap='Oranges')\n",
    "plt.savefig('image/2008년지역별연령분포비교.png')\n",
    "plt.show()"
   ]
  },
  {
   "cell_type": "code",
   "execution_count": null,
   "id": "a930aeb7-c381-4c5f-bd08-8071409c8995",
   "metadata": {
    "scrolled": true
   },
   "outputs": [],
   "source": [
    "fig, ax = plt.subplots(4, 4, figsize=(20, 20))\n",
    "axs = ax.flat\n",
    "\n",
    "for r, v in piv.items():\n",
    "    print(f'{r} / {v}')\n",
    "    "
   ]
  },
  {
   "cell_type": "raw",
   "id": "d7375367-206e-4776-a79f-2f4f52806ccf",
   "metadata": {
    "scrolled": true
   },
   "source": [
    "file_dirname = './dataset/연령별인구현황_연간_2008-2023.csv'\n",
    "data_m.to_csv(file_dirname, index=False)"
   ]
  },
  {
   "cell_type": "raw",
   "id": "5e34f57e-ba52-4801-8a38-ad8880bd6e4a",
   "metadata": {},
   "source": [
    "client_hdfs.upload(local_path=file_dirname, hdfs_path='/user/hadoop/sports/')"
   ]
  },
  {
   "cell_type": "raw",
   "id": "939c24fe-2abf-44c4-ab84-7c4d50aed549",
   "metadata": {},
   "source": [
    "print(client_hdfs.list('./sports/'))"
   ]
  },
  {
   "cell_type": "code",
   "execution_count": null,
   "id": "f2cb31c4-e35c-4a4c-98a8-74ea712661e8",
   "metadata": {},
   "outputs": [],
   "source": []
  }
 ],
 "metadata": {
  "kernelspec": {
   "display_name": "Python 3 (ipykernel)",
   "language": "python",
   "name": "python3"
  },
  "language_info": {
   "codemirror_mode": {
    "name": "ipython",
    "version": 3
   },
   "file_extension": ".py",
   "mimetype": "text/x-python",
   "name": "python",
   "nbconvert_exporter": "python",
   "pygments_lexer": "ipython3",
   "version": "3.11.6"
  }
 },
 "nbformat": 4,
 "nbformat_minor": 5
}
