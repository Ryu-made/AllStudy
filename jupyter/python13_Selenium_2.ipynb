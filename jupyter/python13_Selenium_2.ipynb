{
 "cells": [
  {
   "cell_type": "code",
   "execution_count": 1,
   "id": "3cbeaf20-d193-4b12-9a50-0a2fe902b495",
   "metadata": {},
   "outputs": [],
   "source": [
    "from selenium.webdriver.chrome.options import Options\n",
    "from selenium.webdriver.common.by import By\n",
    "from selenium import webdriver\n",
    "import time\n",
    "\n",
    "import pandas as pd\n",
    "import folium"
   ]
  },
  {
   "cell_type": "code",
   "execution_count": 2,
   "id": "abee4113-47b3-46ec-ae74-39702854c105",
   "metadata": {},
   "outputs": [],
   "source": [
    "# Chrome 옵션 설정\n",
    "options = Options()\n",
    "options.binary_location = '/usr/local/bin/chrome-headless-shell' # 크롬 브라우저 경로\n",
    "# options.add_argument('--headless')\n",
    "options.add_argument('--no-sandbox') # 실행 가드? 해제\n",
    "# options.add_argument('--log-path=/usr/local/bin/chromedriver.log')\n",
    "options.add_argument('--disable-dev-shm-usage') # 공유 메모리 비활성화\n",
    "options.add_argument('--disable-gpu') # GPU 비활성화\n",
    "options.add_argument('--window-size=1920,1080') # 가상 화면크기 설정\n",
    "# ChromeDriver 설정\n",
    "# service = Service('/usr/local/bin/chromedriver')\n",
    "service = webdriver.ChromeService() # executable_path='/usr/local/bin/chromedriver'\n",
    "driver = webdriver.Chrome(service=service, options=options)"
   ]
  },
  {
   "cell_type": "code",
   "execution_count": null,
   "id": "76873d8b-033c-4fec-9255-b028a56bc534",
   "metadata": {},
   "outputs": [],
   "source": []
  }
 ],
 "metadata": {
  "kernelspec": {
   "display_name": "Python 3 (ipykernel)",
   "language": "python",
   "name": "python3"
  },
  "language_info": {
   "codemirror_mode": {
    "name": "ipython",
    "version": 3
   },
   "file_extension": ".py",
   "mimetype": "text/x-python",
   "name": "python",
   "nbconvert_exporter": "python",
   "pygments_lexer": "ipython3",
   "version": "3.11.6"
  }
 },
 "nbformat": 4,
 "nbformat_minor": 5
}
